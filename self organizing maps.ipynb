{
 "cells": [
  {
   "cell_type": "code",
   "execution_count": 1,
   "id": "58c2ca76",
   "metadata": {},
   "outputs": [
    {
     "name": "stdout",
     "output_type": "stream",
     "text": [
      "Test Sample s belongs to Cluster :  0\n",
      "Trained weights :  [[0.003125, 0.009375, 0.6640625, 0.9984375], [0.996875, 0.334375, 0.0109375, 0.0046875]]\n"
     ]
    }
   ],
   "source": [
    "import math\n",
    "\n",
    "\n",
    "class SOM:\n",
    "# Function here computes the winning vector\n",
    "# by Euclidean distance\n",
    "    def winner(self, weights, sample):\n",
    "\n",
    "            D0 = 0\n",
    "            D1 = 0\n",
    "\n",
    "            for i in range(len(sample)):\n",
    "\n",
    "                D0 = D0 + math.pow((sample[i] - weights[0][i]), 2)\n",
    "                D1 = D1 + math.pow((sample[i] - weights[1][i]), 2)\n",
    "\n",
    "            # Selecting the cluster with smallest distance as winning cluster\n",
    "\n",
    "            if D0 < D1:\n",
    "                return 0\n",
    "            else:\n",
    "                return 1\n",
    "\n",
    "# Function here updates the winning vector\n",
    "    def update(self, weights, sample, J, alpha):\n",
    "        # Here iterating over the weights of winning cluster and modifying them\n",
    "        for i in range(len(weights[0])):\n",
    "            weights[J][i] = weights[J][i] + alpha * (sample[i] - weights[J][i])\n",
    "\n",
    "        return weights\n",
    "\n",
    "# Driver code\n",
    "\n",
    "\n",
    "def main():\n",
    "\n",
    "    # Training Examples ( m, n )\n",
    "    T = [[1, 1, 0, 0], [0, 0, 0, 1], [1, 0, 0, 0], [0, 0, 1, 1]]\n",
    "\n",
    "    m, n = len(T), len(T[0])\n",
    "\n",
    "    # weight initialization ( n, C )\n",
    "    weights = [[0.2, 0.6, 0.5, 0.9], [0.8, 0.4, 0.7, 0.3]]\n",
    "\n",
    "    # training\n",
    "    ob = SOM()\n",
    "\n",
    "    epochs = 3\n",
    "    alpha = 0.5\n",
    "\n",
    "    for i in range(epochs):\n",
    "        for j in range(m):\n",
    "\n",
    "            # training sample\n",
    "            sample = T[j]\n",
    "\n",
    "            # Compute winner vector\n",
    "            J = ob.winner(weights, sample)\n",
    "\n",
    "            # Update winning vector\n",
    "            weights = ob.update(weights, sample, J, alpha)\n",
    "\n",
    "    # classify test sample\n",
    "    s = [0, 0, 0, 1]\n",
    "    J = ob.winner(weights, s)\n",
    "\n",
    "    print(\"Test Sample s belongs to Cluster : \", J)\n",
    "    print(\"Trained weights : \", weights)\n",
    "\n",
    "\n",
    "if __name__ == \"__main__\":\n",
    "    main()\n"
   ]
  }
 ],
 "metadata": {
  "kernelspec": {
   "display_name": "Python 3 (ipykernel)",
   "language": "python",
   "name": "python3"
  },
  "language_info": {
   "codemirror_mode": {
    "name": "ipython",
    "version": 3
   },
   "file_extension": ".py",
   "mimetype": "text/x-python",
   "name": "python",
   "nbconvert_exporter": "python",
   "pygments_lexer": "ipython3",
   "version": "3.12.0"
  }
 },
 "nbformat": 4,
 "nbformat_minor": 5
}
